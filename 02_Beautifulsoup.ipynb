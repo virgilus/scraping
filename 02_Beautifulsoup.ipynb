{
 "cells": [
  {
   "cell_type": "markdown",
   "id": "d4f4b91f-9597-4759-81e3-aeb93c6da877",
   "metadata": {},
   "source": [
    "# Beautiful Soup\n",
    "\n",
    "Beautiful Soup is a popular Python library used for parsing HTML and XML documents. It creates a parse tree from page source code that can be used to extract data easily.\n",
    "\n",
    "## Install\n",
    "\n",
    "[Beautiful Soup](https://pypi.org/project/beautifulsoup4/)\n",
    "\n",
    "## Basic Usage"
   ]
  },
  {
   "cell_type": "code",
   "execution_count": null,
   "id": "5db28a0d-969d-4515-b477-31c756f6d392",
   "metadata": {
    "tags": []
   },
   "outputs": [],
   "source": [
    "from bs4 import BeautifulSoup\n",
    "\n",
    "# Sample HTML content\n",
    "html_content = \"\"\"\n",
    "<html>\n",
    "<head>\n",
    "    <title>Sample Page</title>\n",
    "</head>\n",
    "<body>\n",
    "    <h1>Welcome to My Website</h1>\n",
    "    <p>This is a paragraph of a text.</p>\n",
    "    <ul>\n",
    "        <li>Item 1</li>\n",
    "        <li>Item 2</li>\n",
    "        <li>Item 3</li>\n",
    "    </ul>\n",
    "    <p>This is the second paragraph of text.</p>\n",
    "    <ul class=\"table-class\">\n",
    "        <li>Item 4</li>\n",
    "        <li>Item 5</li>\n",
    "        <li>Item 6</li>\n",
    "    </ul>\n",
    "        <h1>Another h1 title</h1>\n",
    "</body>\n",
    "</html>\n",
    "\"\"\"\n",
    "\n",
    "# Create a BeautifulSoup object\n",
    "soup = BeautifulSoup(html_content, 'html.parser')"
   ]
  },
  {
   "cell_type": "code",
   "execution_count": null,
   "id": "e425912d-2968-414d-8bb1-9f17da0fe4e7",
   "metadata": {
    "tags": []
   },
   "outputs": [],
   "source": [
    "# Access to the title tag\n",
    "soup.title"
   ]
  },
  {
   "cell_type": "code",
   "execution_count": null,
   "id": "7455dd41-b123-4350-9b89-f7859a00edc2",
   "metadata": {
    "tags": []
   },
   "outputs": [],
   "source": [
    "# Extract the title\n",
    "soup.title.string"
   ]
  },
  {
   "cell_type": "markdown",
   "id": "32d8cd9a-d91b-4b91-89eb-4eec00248750",
   "metadata": {},
   "source": [
    "Or you can also use the ```.text``` attribute. More information about the difference between ```.text``` and ```.string``` on this [stack overflow post.](https://stackoverflow.com/questions/25327693/difference-between-string-and-text-beautifulsoup). Also behind the hood ```.text``` calls ```.get_text()``` which is a function that can take several arguments (including a separator)."
   ]
  },
  {
   "cell_type": "code",
   "execution_count": null,
   "id": "db59f939-80d1-4e56-82c4-9c19f70b067b",
   "metadata": {
    "tags": []
   },
   "outputs": [],
   "source": [
    "# Extract the title\n",
    "soup.title.text"
   ]
  },
  {
   "cell_type": "code",
   "execution_count": null,
   "id": "230a73da-3303-4dbf-9686-982e4d7309ad",
   "metadata": {
    "tags": []
   },
   "outputs": [],
   "source": [
    "# Extract the title\n",
    "soup.title.get_text()"
   ]
  },
  {
   "cell_type": "code",
   "execution_count": null,
   "id": "926c5dc4-78cc-4e74-bf2c-4dfa7901ba46",
   "metadata": {
    "tags": []
   },
   "outputs": [],
   "source": [
    "# Extract the first paragraph\n",
    "soup.find('p').string\n",
    "#soup.find('p').get_text() # alternate way\n",
    "#soup.find('p').text # alternate way "
   ]
  },
  {
   "cell_type": "code",
   "execution_count": null,
   "id": "49a8a1ff-19a0-4a3d-bc26-c3f038660e1b",
   "metadata": {
    "tags": []
   },
   "outputs": [],
   "source": [
    "# Extract all list items\n",
    "li_tags = soup.find_all('li')\n",
    "for li in li_tags:\n",
    "    print(li.string)"
   ]
  },
  {
   "cell_type": "code",
   "execution_count": null,
   "id": "5a4b978f-97db-4e46-93a4-e2153d7ef0df",
   "metadata": {
    "tags": []
   },
   "outputs": [],
   "source": [
    "# find() finds the first occurrence of a tag\n",
    "soup.find('h1')"
   ]
  },
  {
   "cell_type": "code",
   "execution_count": null,
   "id": "40a24808-e090-40e6-a884-daea6b62e359",
   "metadata": {
    "tags": []
   },
   "outputs": [],
   "source": [
    "# find_all() finds all occurrences of a tag.\n",
    "soup.find_all('h1')"
   ]
  },
  {
   "cell_type": "code",
   "execution_count": null,
   "id": "22f318b3-0f23-428e-9eb2-d5511fb23972",
   "metadata": {
    "tags": []
   },
   "outputs": [],
   "source": [
    "# or with a p\n",
    "soup.find_all('p')"
   ]
  },
  {
   "cell_type": "code",
   "execution_count": null,
   "id": "7bd33962-0160-49ba-a192-25dad4abb6a2",
   "metadata": {
    "tags": []
   },
   "outputs": [],
   "source": [
    "# select() uses CSS selectors to find elements.\n",
    "soup.select('ul li')"
   ]
  },
  {
   "cell_type": "code",
   "execution_count": null,
   "id": "8b19e2a1-6f1d-45d3-8755-84d6a430095b",
   "metadata": {
    "tags": []
   },
   "outputs": [],
   "source": [
    "# Using the 'attributes' argument allows us to pass a dict of attributes\n",
    "soup.find_all(attrs={'class':'table-class'})\n",
    "# This also works with soup.find(attrs={'class':'table-class'}) if you want to retrive only the first element"
   ]
  },
  {
   "cell_type": "code",
   "execution_count": null,
   "id": "ab4e1dad-dcc9-4a40-987e-5fc76df3bb4a",
   "metadata": {
    "tags": []
   },
   "outputs": [],
   "source": [
    "# Navigating the Parse Tree\n",
    "soup.p.parent  # Get the parent of the first <p> tag"
   ]
  },
  {
   "cell_type": "markdown",
   "id": "3980411f-6c89-4899-a4ef-118a41dbcc4b",
   "metadata": {},
   "source": [
    "## Exercice\n",
    "\n",
    "❓ **>>>** Get the same result on the book to scrap website than the previous notebook (so every item on the left menu) but using the Beautiful Soup Library instead."
   ]
  },
  {
   "cell_type": "code",
   "execution_count": null,
   "id": "ec3c196f-9982-4b3f-8d8c-c308ea3be9d3",
   "metadata": {
    "tags": []
   },
   "outputs": [],
   "source": [
    "import requests\n",
    "from bs4 import BeautifulSoup\n",
    "\n",
    "URL = 'https://books.toscrape.com/'\n",
    "r = requests.get(URL)\n",
    "soup = BeautifulSoup(r.text)"
   ]
  },
  {
   "cell_type": "code",
   "execution_count": null,
   "id": "a63c2138-3d8d-4df0-b16a-389b28e79872",
   "metadata": {
    "tags": []
   },
   "outputs": [],
   "source": [
    "# Code here!\n"
   ]
  },
  {
   "cell_type": "markdown",
   "id": "83fe94a4-6371-4602-ac41-f9636f5dc725",
   "metadata": {},
   "source": [
    "## Exercice\n",
    "\n",
    "❓ **>>>** Get the same result with the imdb website than the previous notebook (so the top 250 movies with rank, name, and average rating) but using the Beautiful Soup Library instead. You can also use the library JSON if you want to make things easier."
   ]
  },
  {
   "cell_type": "code",
   "execution_count": null,
   "id": "891cfd92-3e37-452b-aaf8-29c181dde0eb",
   "metadata": {
    "tags": []
   },
   "outputs": [],
   "source": [
    "# Code here!\n"
   ]
  }
 ],
 "metadata": {
  "kernelspec": {
   "display_name": "Python 3 (ipykernel)",
   "language": "python",
   "name": "python3"
  },
  "language_info": {
   "codemirror_mode": {
    "name": "ipython",
    "version": 3
   },
   "file_extension": ".py",
   "mimetype": "text/x-python",
   "name": "python",
   "nbconvert_exporter": "python",
   "pygments_lexer": "ipython3",
   "version": "3.11.0"
  }
 },
 "nbformat": 4,
 "nbformat_minor": 5
}
