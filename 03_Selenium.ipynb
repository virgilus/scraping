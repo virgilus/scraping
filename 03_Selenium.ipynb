{
 "cells": [
  {
   "cell_type": "markdown",
   "id": "65edc3e6-31bd-4719-a2b6-7452c2d3305a",
   "metadata": {},
   "source": [
    "# Selenium\n",
    "\n",
    "**Selenium** is a powerful tool for automating web browsers. It is widely used for testing web applications, but it can also be used for web scraping, automating repetitive tasks, and interacting with web pages in a way that mimics human behavior. Selenium supports multiple programming languages, including Python, Java, C#, and Ruby.\n",
    "\n",
    "With Selenium you can:\n",
    "\n",
    "- Automate tasks such as clicking buttons, filling out forms, navigating pages, and more.\n",
    "- Emulate multiple browsers, including Chrome, Firefox, Safari, and Edge.\n",
    "- Perform Web-Scraping (it is especially good for dynamic content).\n",
    "- Use it to test your aplication (pytest, unittest...)\n",
    "- Create a \"headless\" browser (without a graphical user interface)"
   ]
  },
  {
   "cell_type": "markdown",
   "id": "25ed3027-c0ed-4476-a76e-fb8374567bf8",
   "metadata": {},
   "source": [
    "## Installation\n",
    "\n",
    "[Install Selenium](https://selenium-python.readthedocs.io/installation.html)\n",
    "\n",
    "## Webdrive manager (optional)\n",
    "\n",
    "Many people use a second library called webdriver_manager that allows you to better use and configure the webdrivers.\n",
    "In that case, you can use the following library.\n",
    "\n",
    "[Install webdriver_manager](https://pypi.org/project/webdriver-manager/)"
   ]
  },
  {
   "cell_type": "raw",
   "id": "8149d34e-40dd-4645-8c4c-22c674d8fd25",
   "metadata": {
    "tags": []
   },
   "source": [
    "# (Optional)\n",
    "from selenium import webdriver\n",
    "from selenium.webdriver.chrome.service import Service\n",
    "from webdriver_manager.chrome import ChromeDriverManager\n",
    "\n",
    "chrome_options = webdriver.ChromeOptions()\n",
    "chrome_options.add_argument(\"--headless\") # without GUI\n",
    "#chrome_options.add_argument(\"--no-sandbox\") # disable some securities\n",
    "#chrome_options.add_argument(\"--disable-dev-shm-usage\") # better for dockerized applications\n",
    "\n",
    "path_to_web_driver = ChromeDriverManager().install() # will output a path\n",
    "\n",
    "service = Service(executable_path=path_to_web_driver)\n",
    "browser = webdriver.Chrome(service=service, options=chrome_options)"
   ]
  },
  {
   "cell_type": "markdown",
   "id": "4653f5ad-1ea6-4c4f-9e7f-2e0c7b79d501",
   "metadata": {},
   "source": [
    "## XPATH\n",
    "XPath (XML Path Language) is a query language for selecting nodes from an XML document. It is also used to navigate through elements and attributes in an XML document. In the context of web automation with tools like BeautifulSoup, XPath is used to locate elements within the HTML structure of a web page.\n",
    "\n",
    "### Basic Syntax\n",
    "\n",
    "- **Absolute XPath**: Starts with a single slash (`/`) and represents the full path from the root element.\n",
    "  ```xml\n",
    "  /html/body/div/input\n",
    "  ```\n",
    "\n",
    "- **Relative XPath**: Starts with a double slash (`//`) and represents a search for the element anywhere in the document.\n",
    "  ```xml\n",
    "  //input[@name='username']\n",
    "  ```\n",
    "\n",
    "### Common XPath Expressions\n",
    "\n",
    "1. **Selecting Elements by Tag Name**:\n",
    "   ```xml\n",
    "   //input\n",
    "   ```\n",
    "   Selects all `<input>` elements in the document.\n",
    "\n",
    "2. **Selecting Elements by Attribute**:\n",
    "   ```xml\n",
    "   //input[@name='username']\n",
    "   ```\n",
    "   Selects the `<input>` element with the `name` attribute equal to `username`.\n",
    "\n",
    "3. **Selecting Elements by Text Content**:\n",
    "   ```xml\n",
    "   //button[text()='Submit']\n",
    "   ```\n",
    "   Selects the `<button>` element with the text content `Submit`.\n",
    "\n",
    "4. **Selecting Elements by Partial Attribute Value**:\n",
    "   ```xml\n",
    "   //input[contains(@name, 'user')]\n",
    "   ```\n",
    "   Selects the `<input>` element where the `name` attribute contains the substring `user`.\n",
    "\n",
    "5. **Selecting Elements by Position**:\n",
    "   ```xml\n",
    "   //div[position()=1]\n",
    "   ```\n",
    "   Selects the first `<div>` element in the document.\n",
    "   \n",
    "### Getting the XPATH of a tag with a browser\n",
    "\n",
    "When you click on inspect and then select a tag, you can right-click go to \"copy\" and \"copy XPATH\"."
   ]
  },
  {
   "cell_type": "markdown",
   "id": "09bd09b2-e3e4-4720-8d01-6c16a1d70693",
   "metadata": {},
   "source": [
    "## First example : a search of the news of Bing\n",
    "\n",
    "### The ```.find_element()``` and ```.find_elements()``` methods\n",
    "\n",
    "The `find_element` and `find_elements` methods in Selenium are used to locate elements on a web page. The main difference between the two is that `find_element` returns a single element, while `find_elements` returns a list of elements that match the specified criteria.\n",
    "\n",
    "### The ```By``` class\n",
    "\n",
    "The `By` class in Selenium is a utility class that provides a set of predefined locator strategies for finding elements on a web page. It is part of the `selenium.webdriver.common.by` module and is used to specify the type of locator (e.g., ID, name, class name, XPath, etc.) when searching for elements.\n",
    "\n",
    "The most common locators are :\n",
    "\n",
    "1. **By.ID**: Locates an element by its `id` attribute.\n",
    "   ```python\n",
    "   element = driver.find_element(By.ID, \"element_id\")\n",
    "   ```\n",
    "\n",
    "2. **By.NAME**: Locates an element by its `name` attribute.\n",
    "   ```python\n",
    "   element = driver.find_element(By.NAME, \"element_name\")\n",
    "   ```\n",
    "\n",
    "3. **By.CLASS_NAME**: Locates an element by its `class` attribute.\n",
    "   ```python\n",
    "   element = driver.find_element(By.CLASS_NAME, \"element_class\")\n",
    "   ```\n",
    "\n",
    "4. **By.TAG_NAME**: Locates an element by its tag name.\n",
    "   ```python\n",
    "   element = driver.find_element(By.TAG_NAME, \"tag_name\")\n",
    "   ```\n",
    "\n",
    "5. **By.XPATH**: Locates an element using an XPath expression.\n",
    "   ```python\n",
    "   element = driver.find_element(By.XPATH, \"//xpath/expression\")\n",
    "   ```\n",
    "\n",
    "6. **By.CSS_SELECTOR**: Locates an element using a CSS selector.\n",
    "   ```python\n",
    "   element = driver.find_element(By.CSS_SELECTOR, \"css_selector\")\n",
    "   ```\n",
    "   \n",
    "### Basic example\n",
    "\n",
    "Let's use selenium to navigate and make a research for us."
   ]
  },
  {
   "cell_type": "code",
   "execution_count": null,
   "id": "5198e91f-7a6a-421a-97cd-3e34b890e7b8",
   "metadata": {
    "tags": []
   },
   "outputs": [],
   "source": [
    "from selenium import webdriver\n",
    "from selenium.webdriver.common.by import By\n",
    "\n",
    "URL = \"https://www.bing.com/news\"\n",
    "\n",
    "browser = webdriver.Chrome()\n",
    "browser.get(URL)\n",
    "\n",
    "query_field = browser.find_element(By.NAME, \"q\") # You can find the element using the attribute\n",
    "#query_field = browser.find_element(By.XPATH, \"//*[@id='sb_form_q']\") # or using the XPATH\n",
    "\n",
    "query_field.send_keys(\"Kamala Harris\") # Let's type something\n",
    "\n",
    "search_button = browser.find_element(By.XPATH, \"//input[@id='sb_form_go']\") # Let's find the button\n",
    "search_button.click()"
   ]
  },
  {
   "cell_type": "markdown",
   "id": "de29ddff-6df2-4635-a68a-5d0ccf257ef5",
   "metadata": {},
   "source": [
    "### Headless and screenshot example"
   ]
  },
  {
   "cell_type": "code",
   "execution_count": null,
   "id": "ba2f4e68-85d6-4415-aa46-9ca1dac6ba3a",
   "metadata": {
    "tags": []
   },
   "outputs": [],
   "source": [
    "from selenium import webdriver\n",
    "\n",
    "from PIL import Image # To display the image\n",
    "from io import BytesIO # To deal with binary data\n",
    "\n",
    "URL = \"https://www.bing.com/news\"\n",
    "\n",
    "# Headless options\n",
    "chrome_options = webdriver.ChromeOptions()\n",
    "chrome_options.add_argument(\"--headless\")\n",
    "\n",
    "# To reset the options without restarting the kernel\n",
    "# from selenium.webdriver.chrome.options import Options\n",
    "# chrome_options = Options()\n",
    "\n",
    "browser = webdriver.Chrome(options=chrome_options)\n",
    "\n",
    "browser.get(URL)\n",
    "\n",
    "query_field = browser.find_element(\"name\", \"q\") # You can find using the attribute\n",
    "#query_field = browser.find_element(\"xpath\", \"//*[@id='sb_form_q']\") # or XPATH\n",
    "\n",
    "query_field.send_keys(\"Kamala Harris\") # Let's type something\n",
    "\n",
    "search_button = browser.find_element(\"xpath\", \"//input[@id='sb_form_go']\") # Let's find the button\n",
    "search_button.click()\n",
    "\n",
    "img = Image.open(BytesIO(browser.get_screenshot_as_png())) # take a screenshot\n",
    "\n",
    "browser.quit() # Let's quit the browser this way, because we don't have a GUI.\n",
    "\n",
    "img"
   ]
  },
  {
   "cell_type": "markdown",
   "id": "c0f93555-acb1-4aef-906f-037bc2773f06",
   "metadata": {},
   "source": [
    "## Exercice\n",
    "\n",
    "❓ **>>>** Using Selenium (and other libraries) and a headless browser: \n",
    "1. Go to the website https://reporterre.net/.\n",
    "1. Find the main article.\n",
    "1. Click on it to read the article.\n",
    "1. Display the author name.\n",
    "1. Take a screenshot."
   ]
  },
  {
   "cell_type": "code",
   "execution_count": null,
   "id": "e8978acd-2098-44be-b682-5beabbbcadff",
   "metadata": {},
   "outputs": [],
   "source": [
    "# Code here!\n"
   ]
  },
  {
   "cell_type": "markdown",
   "id": "06538d9c-bdc2-4efc-a419-015528e1ba58",
   "metadata": {},
   "source": [
    "## Exercice\n",
    "\n",
    "❓ **>>>** Using Selenium (and other libraries) and a headless browser: \n",
    "1. Go to the website https://www.saucedemo.com which has been specially designed to be navigated through libraries such as Selenium.\n",
    "1. Find a way to enter the website.\n",
    "1. Click on all the button \"Add to cart\" on the webpage.\n",
    "1. Go to the page \"cart\" and take a screenshot to make sure you've added all products."
   ]
  },
  {
   "cell_type": "code",
   "execution_count": null,
   "id": "955a9af9-a507-44e6-9ce3-637827a41253",
   "metadata": {
    "tags": []
   },
   "outputs": [],
   "source": [
    "# Code here\n"
   ]
  },
  {
   "cell_type": "markdown",
   "id": "d8ba9fbd-b834-4a03-beb6-e9669840d442",
   "metadata": {},
   "source": [
    "## Sleep, WebDriverWait, EC, Keys\n",
    "\n",
    "When dealing with real websites, we often need more tools.\n",
    "\n",
    "### Sleep\n",
    "\n",
    "Using the sleep function from the time library allows us to be sure that the webpage is loaded.\n",
    "\n",
    "```python\n",
    "from time import sleep\n",
    "sleep(5)\n",
    "```\n",
    "\n",
    "### WebDriverWait()\n",
    "\n",
    "This creates an instance of the `WebDriverWait` class, which is used to wait for a specific condition to be met within a specified timeout period.\n",
    "\n",
    "```python\n",
    "WebDriverWait(browser, 5)\n",
    "```\n",
    "\n",
    "### .until()\n",
    "\n",
    "The `until` method is used to wait until a specific condition is met.\n",
    "\n",
    "```python\n",
    ".until(EC.visibility_of_element_located((By.XPATH, \"//input[@name='username']\")))\n",
    "```\n",
    "\n",
    "### EC (expected condition)\n",
    "\n",
    "```EC.visibility_of_element_located```: This is an expected condition from the expected_conditions module (EC). It waits until the specified element is visible on the page.\n",
    "\n",
    "### Keys\n",
    "\n",
    "The Keys class allows us to simulate the keyboard. For instance ```Keys.ENTER``` tells to the browser to presse enter.\n",
    "\n",
    "## Cookies consent\n",
    "\n",
    "All the previous methods and tips should allow you to deal with the consent cookies pop-up, at least to a certain extent."
   ]
  },
  {
   "cell_type": "code",
   "execution_count": null,
   "id": "0e7dc6d0-fe37-4731-8e95-15e1fc2d6396",
   "metadata": {
    "tags": []
   },
   "outputs": [],
   "source": [
    "from selenium import webdriver\n",
    "from selenium.webdriver.common.by import By\n",
    "\n",
    "from selenium.webdriver.support import expected_conditions as EC\n",
    "from selenium.webdriver.support.ui import WebDriverWait\n",
    "\n",
    "URL = \"https://www.bing.com/news\"\n",
    "\n",
    "browser = webdriver.Chrome()\n",
    "browser.get(URL)\n",
    "\n",
    "query_field = browser.find_element(By.NAME, \"q\")\n",
    "query_field.send_keys(\"Kamala Harris\") # Let's type something\n",
    "\n",
    "WebDriverWait(browser, 5).until(EC.visibility_of_element_located((By.XPATH, \"//input[@id='sb_form_go']\"))).click()"
   ]
  },
  {
   "cell_type": "markdown",
   "id": "7ecbaf71-2b90-4ac9-9b46-cbe962737465",
   "metadata": {},
   "source": [
    "## Exercice\n",
    "\n",
    "❓ **>>>** Using Selenium (and other libraries) and a headless browser: \n",
    "1. Go to the website https://www.google.com\n",
    "1. Find a way to refuse the cookies.\n",
    "1. Do a resaerch on \"Guido Van Rossum\".\n",
    "1. Take a screenshot."
   ]
  },
  {
   "cell_type": "code",
   "execution_count": null,
   "id": "0a46288e-b1ee-4919-a24a-731e377c1062",
   "metadata": {},
   "outputs": [],
   "source": [
    "# Code here!\n"
   ]
  }
 ],
 "metadata": {
  "kernelspec": {
   "display_name": "Python 3 (ipykernel)",
   "language": "python",
   "name": "python3"
  },
  "language_info": {
   "codemirror_mode": {
    "name": "ipython",
    "version": 3
   },
   "file_extension": ".py",
   "mimetype": "text/x-python",
   "name": "python",
   "nbconvert_exporter": "python",
   "pygments_lexer": "ipython3",
   "version": "3.11.0"
  }
 },
 "nbformat": 4,
 "nbformat_minor": 5
}
